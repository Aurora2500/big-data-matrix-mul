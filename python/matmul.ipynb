{
 "cells": [
  {
   "cell_type": "code",
   "execution_count": 1,
   "metadata": {},
   "outputs": [],
   "source": [
    "from time import time\n",
    "import random\n",
    "from dataclasses import dataclass"
   ]
  },
  {
   "cell_type": "code",
   "execution_count": 2,
   "metadata": {},
   "outputs": [],
   "source": [
    "@dataclass\n",
    "class matrix:\n",
    "\tbuff: list[list[float]]\n",
    "\t\n",
    "\t@staticmethod\n",
    "\tdef random(n):\n",
    "\t\treturn matrix([[random.gauss(0, 1) for _ in range(n)] for _ in range(n)])\n",
    "\t\n",
    "\t@staticmethod\n",
    "\tdef eye(n):\n",
    "\t\treturn matrix([[1 if i == j else 0 for j in range(n)] for i in range(n)])\n",
    "\t\n",
    "\tdef __matmul__(self, other):\n",
    "\t\tif len(self.buff[0]) != len(other.buff):\n",
    "\t\t\traise ValueError(\"Matrix dimensions do not match\")\n",
    "\t\treturn matrix([\n",
    "\t\t\t[\n",
    "\t\t\t\tsum(a * b for a, b in zip(row, col))\n",
    "\t\t\t\tfor col\n",
    "\t\t\t\tin zip(*other.buff)\n",
    "\t\t\t]\n",
    "\t\t\tfor row\n",
    "\t\t\tin self.buff\n",
    "\t\t])\n",
    "\t\n",
    "\tdef __repr__(self):\n",
    "\t\tsep = ',\\n' + ' ' * len('matrix([')\n",
    "\t\treturn f\"matrix([{sep.join(map(str, self.buff))}])\""
   ]
  },
  {
   "cell_type": "code",
   "execution_count": 3,
   "metadata": {},
   "outputs": [
    {
     "name": "stdout",
     "output_type": "stream",
     "text": [
      "matrix([[-0.854764985992052, 1.272919322952859, 1.024409322694065],\n",
      "        [-0.0235738112250805, 0.4209483853357273, 1.179384161296463],\n",
      "        [-1.85219982099865, -1.2062177374532406, 0.7865592200941005]])\n",
      "matrix([[-0.854764985992052, 1.272919322952859, 1.024409322694065],\n",
      "        [-0.0235738112250805, 0.4209483853357273, 1.179384161296463],\n",
      "        [-1.85219982099865, -1.2062177374532406, 0.7865592200941005]])\n"
     ]
    }
   ],
   "source": [
    "ex = matrix.random(3)\n",
    "eye = matrix.eye(3)\n",
    "\n",
    "print(ex)\n",
    "print(eye @ ex)"
   ]
  },
  {
   "cell_type": "code",
   "execution_count": null,
   "metadata": {},
   "outputs": [],
   "source": [
    "# benchmarking:\n",
    "import pandas as pd\n",
    "from collections import defaultdict\n",
    "\n",
    "results = defaultdict(list)\n",
    "\n",
    "for n in range(1, 13):\n",
    "\tsize = 2 ** n\n",
    "\ta = matrix.random(size)\n",
    "\tb = matrix.random(size)\n",
    "\n",
    "\tstart = time()\n",
    "\tc = a @ b\n",
    "\tend = time()\n",
    "\n",
    "\tresults['size'].append(size)\n",
    "\tresults['time'].append(end - start)\n",
    "\n",
    "res = pd.DataFrame(results)"
   ]
  },
  {
   "cell_type": "code",
   "execution_count": 21,
   "metadata": {},
   "outputs": [
    {
     "data": {
      "text/html": [
       "<div>\n",
       "<style scoped>\n",
       "    .dataframe tbody tr th:only-of-type {\n",
       "        vertical-align: middle;\n",
       "    }\n",
       "\n",
       "    .dataframe tbody tr th {\n",
       "        vertical-align: top;\n",
       "    }\n",
       "\n",
       "    .dataframe thead th {\n",
       "        text-align: right;\n",
       "    }\n",
       "</style>\n",
       "<table border=\"1\" class=\"dataframe\">\n",
       "  <thead>\n",
       "    <tr style=\"text-align: right;\">\n",
       "      <th></th>\n",
       "      <th>size</th>\n",
       "      <th>time</th>\n",
       "    </tr>\n",
       "  </thead>\n",
       "  <tbody>\n",
       "    <tr>\n",
       "      <th>0</th>\n",
       "      <td>2</td>\n",
       "      <td>0.000008</td>\n",
       "    </tr>\n",
       "    <tr>\n",
       "      <th>1</th>\n",
       "      <td>4</td>\n",
       "      <td>0.000012</td>\n",
       "    </tr>\n",
       "    <tr>\n",
       "      <th>2</th>\n",
       "      <td>8</td>\n",
       "      <td>0.000048</td>\n",
       "    </tr>\n",
       "    <tr>\n",
       "      <th>3</th>\n",
       "      <td>16</td>\n",
       "      <td>0.000233</td>\n",
       "    </tr>\n",
       "    <tr>\n",
       "      <th>4</th>\n",
       "      <td>32</td>\n",
       "      <td>0.001519</td>\n",
       "    </tr>\n",
       "    <tr>\n",
       "      <th>5</th>\n",
       "      <td>64</td>\n",
       "      <td>0.011056</td>\n",
       "    </tr>\n",
       "    <tr>\n",
       "      <th>6</th>\n",
       "      <td>128</td>\n",
       "      <td>0.085281</td>\n",
       "    </tr>\n",
       "    <tr>\n",
       "      <th>7</th>\n",
       "      <td>256</td>\n",
       "      <td>0.667915</td>\n",
       "    </tr>\n",
       "    <tr>\n",
       "      <th>8</th>\n",
       "      <td>512</td>\n",
       "      <td>5.761569</td>\n",
       "    </tr>\n",
       "    <tr>\n",
       "      <th>9</th>\n",
       "      <td>1024</td>\n",
       "      <td>63.186665</td>\n",
       "    </tr>\n",
       "    <tr>\n",
       "      <th>10</th>\n",
       "      <td>2048</td>\n",
       "      <td>621.308472</td>\n",
       "    </tr>\n",
       "    <tr>\n",
       "      <th>11</th>\n",
       "      <td>4096</td>\n",
       "      <td>5300.607593</td>\n",
       "    </tr>\n",
       "  </tbody>\n",
       "</table>\n",
       "</div>"
      ],
      "text/plain": [
       "    size         time\n",
       "0      2     0.000008\n",
       "1      4     0.000012\n",
       "2      8     0.000048\n",
       "3     16     0.000233\n",
       "4     32     0.001519\n",
       "5     64     0.011056\n",
       "6    128     0.085281\n",
       "7    256     0.667915\n",
       "8    512     5.761569\n",
       "9   1024    63.186665\n",
       "10  2048   621.308472\n",
       "11  4096  5300.607593"
      ]
     },
     "execution_count": 21,
     "metadata": {},
     "output_type": "execute_result"
    }
   ],
   "source": [
    "pd.DataFrame(results)"
   ]
  }
 ],
 "metadata": {
  "kernelspec": {
   "display_name": "Python 3",
   "language": "python",
   "name": "python3"
  },
  "language_info": {
   "codemirror_mode": {
    "name": "ipython",
    "version": 3
   },
   "file_extension": ".py",
   "mimetype": "text/x-python",
   "name": "python",
   "nbconvert_exporter": "python",
   "pygments_lexer": "ipython3",
   "version": "3.9.13"
  },
  "orig_nbformat": 4
 },
 "nbformat": 4,
 "nbformat_minor": 2
}
